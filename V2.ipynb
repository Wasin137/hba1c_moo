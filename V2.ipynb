{
 "cells": [
  {
   "cell_type": "code",
   "execution_count": 2,
   "metadata": {},
   "outputs": [],
   "source": [
    "import pandas as pd\n",
    "import numpy as np\n",
    "import matplotlib.pylab as plt\n",
    "import seaborn as sns"
   ]
  },
  {
   "cell_type": "code",
   "execution_count": 3,
   "metadata": {},
   "outputs": [
    {
     "data": {
      "text/html": [
       "<div>\n",
       "<style scoped>\n",
       "    .dataframe tbody tr th:only-of-type {\n",
       "        vertical-align: middle;\n",
       "    }\n",
       "\n",
       "    .dataframe tbody tr th {\n",
       "        vertical-align: top;\n",
       "    }\n",
       "\n",
       "    .dataframe thead th {\n",
       "        text-align: right;\n",
       "    }\n",
       "</style>\n",
       "<table border=\"1\" class=\"dataframe\">\n",
       "  <thead>\n",
       "    <tr style=\"text-align: right;\">\n",
       "      <th></th>\n",
       "      <th>CID</th>\n",
       "      <th>avg_labresult</th>\n",
       "      <th>ABOGROUP</th>\n",
       "      <th>BIRTH</th>\n",
       "    </tr>\n",
       "  </thead>\n",
       "  <tbody>\n",
       "    <tr>\n",
       "      <th>0</th>\n",
       "      <td>0000CC6787580</td>\n",
       "      <td>7.0</td>\n",
       "      <td>9.0</td>\n",
       "      <td>19680601.0</td>\n",
       "    </tr>\n",
       "    <tr>\n",
       "      <th>1</th>\n",
       "      <td>0090011285541</td>\n",
       "      <td>5.8</td>\n",
       "      <td>9.0</td>\n",
       "      <td>19740903.0</td>\n",
       "    </tr>\n",
       "    <tr>\n",
       "      <th>2</th>\n",
       "      <td>0090011318155</td>\n",
       "      <td>6.7</td>\n",
       "      <td>9.0</td>\n",
       "      <td>19680410.0</td>\n",
       "    </tr>\n",
       "    <tr>\n",
       "      <th>3</th>\n",
       "      <td>0090011357509</td>\n",
       "      <td>9.0</td>\n",
       "      <td>9.0</td>\n",
       "      <td>19791213.0</td>\n",
       "    </tr>\n",
       "    <tr>\n",
       "      <th>4</th>\n",
       "      <td>0090011375027</td>\n",
       "      <td>10.1</td>\n",
       "      <td>9.0</td>\n",
       "      <td>19780405.0</td>\n",
       "    </tr>\n",
       "    <tr>\n",
       "      <th>...</th>\n",
       "      <td>...</td>\n",
       "      <td>...</td>\n",
       "      <td>...</td>\n",
       "      <td>...</td>\n",
       "    </tr>\n",
       "    <tr>\n",
       "      <th>15257</th>\n",
       "      <td>8950300002537</td>\n",
       "      <td>5.5</td>\n",
       "      <td>9.0</td>\n",
       "      <td>19551122.0</td>\n",
       "    </tr>\n",
       "    <tr>\n",
       "      <th>15258</th>\n",
       "      <td>8950300002685</td>\n",
       "      <td>7.4</td>\n",
       "      <td>9.0</td>\n",
       "      <td>19510108.0</td>\n",
       "    </tr>\n",
       "    <tr>\n",
       "      <th>15259</th>\n",
       "      <td>8959900000011</td>\n",
       "      <td>5.7</td>\n",
       "      <td>9.0</td>\n",
       "      <td>19290101.0</td>\n",
       "    </tr>\n",
       "    <tr>\n",
       "      <th>15260</th>\n",
       "      <td>9977400090869</td>\n",
       "      <td>6.1</td>\n",
       "      <td>9.0</td>\n",
       "      <td>19520101.0</td>\n",
       "    </tr>\n",
       "    <tr>\n",
       "      <th>15261</th>\n",
       "      <td>9977400111862</td>\n",
       "      <td>9.6</td>\n",
       "      <td>9.0</td>\n",
       "      <td>19540701.0</td>\n",
       "    </tr>\n",
       "  </tbody>\n",
       "</table>\n",
       "<p>15262 rows × 4 columns</p>\n",
       "</div>"
      ],
      "text/plain": [
       "                 CID  avg_labresult  ABOGROUP       BIRTH\n",
       "0      0000CC6787580            7.0       9.0  19680601.0\n",
       "1      0090011285541            5.8       9.0  19740903.0\n",
       "2      0090011318155            6.7       9.0  19680410.0\n",
       "3      0090011357509            9.0       9.0  19791213.0\n",
       "4      0090011375027           10.1       9.0  19780405.0\n",
       "...              ...            ...       ...         ...\n",
       "15257  8950300002537            5.5       9.0  19551122.0\n",
       "15258  8950300002685            7.4       9.0  19510108.0\n",
       "15259  8959900000011            5.7       9.0  19290101.0\n",
       "15260  9977400090869            6.1       9.0  19520101.0\n",
       "15261  9977400111862            9.6       9.0  19540701.0\n",
       "\n",
       "[15262 rows x 4 columns]"
      ]
     },
     "metadata": {},
     "output_type": "display_data"
    }
   ],
   "source": [
    "## Data is avg lab_result by cid\n",
    "df = pd.read_csv('data/lab_blood_dob.csv')\n",
    "display(df)"
   ]
  },
  {
   "cell_type": "code",
   "execution_count": 4,
   "metadata": {},
   "outputs": [
    {
     "data": {
      "text/html": [
       "<div>\n",
       "<style scoped>\n",
       "    .dataframe tbody tr th:only-of-type {\n",
       "        vertical-align: middle;\n",
       "    }\n",
       "\n",
       "    .dataframe tbody tr th {\n",
       "        vertical-align: top;\n",
       "    }\n",
       "\n",
       "    .dataframe thead th {\n",
       "        text-align: right;\n",
       "    }\n",
       "</style>\n",
       "<table border=\"1\" class=\"dataframe\">\n",
       "  <thead>\n",
       "    <tr style=\"text-align: right;\">\n",
       "      <th></th>\n",
       "      <th>CID</th>\n",
       "      <th>avg_labresult</th>\n",
       "      <th>ABOGROUP</th>\n",
       "      <th>BIRTH</th>\n",
       "    </tr>\n",
       "  </thead>\n",
       "  <tbody>\n",
       "    <tr>\n",
       "      <th>0</th>\n",
       "      <td>0090121016404</td>\n",
       "      <td>5.3</td>\n",
       "      <td>B</td>\n",
       "      <td>19890315.0</td>\n",
       "    </tr>\n",
       "    <tr>\n",
       "      <th>1</th>\n",
       "      <td>0090801061032</td>\n",
       "      <td>9.4</td>\n",
       "      <td>O</td>\n",
       "      <td>19680101.0</td>\n",
       "    </tr>\n",
       "    <tr>\n",
       "      <th>2</th>\n",
       "      <td>1103700465804</td>\n",
       "      <td>6.5</td>\n",
       "      <td>O</td>\n",
       "      <td>19910517.0</td>\n",
       "    </tr>\n",
       "    <tr>\n",
       "      <th>3</th>\n",
       "      <td>1199900011152</td>\n",
       "      <td>7.0</td>\n",
       "      <td>O</td>\n",
       "      <td>19840409.0</td>\n",
       "    </tr>\n",
       "    <tr>\n",
       "      <th>4</th>\n",
       "      <td>1250300013325</td>\n",
       "      <td>6.1</td>\n",
       "      <td>AB</td>\n",
       "      <td>19851231.0</td>\n",
       "    </tr>\n",
       "    <tr>\n",
       "      <th>...</th>\n",
       "      <td>...</td>\n",
       "      <td>...</td>\n",
       "      <td>...</td>\n",
       "      <td>...</td>\n",
       "    </tr>\n",
       "    <tr>\n",
       "      <th>3780</th>\n",
       "      <td>5969999019679</td>\n",
       "      <td>6.7</td>\n",
       "      <td>AB</td>\n",
       "      <td>19761228.0</td>\n",
       "    </tr>\n",
       "    <tr>\n",
       "      <th>3781</th>\n",
       "      <td>6015601276080</td>\n",
       "      <td>10.0</td>\n",
       "      <td>O</td>\n",
       "      <td>19701111.0</td>\n",
       "    </tr>\n",
       "    <tr>\n",
       "      <th>3782</th>\n",
       "      <td>8502087002364</td>\n",
       "      <td>6.3</td>\n",
       "      <td>O</td>\n",
       "      <td>19780512.0</td>\n",
       "    </tr>\n",
       "    <tr>\n",
       "      <th>3783</th>\n",
       "      <td>8570784009334</td>\n",
       "      <td>6.5</td>\n",
       "      <td>O</td>\n",
       "      <td>19250701.0</td>\n",
       "    </tr>\n",
       "    <tr>\n",
       "      <th>3784</th>\n",
       "      <td>8571384007297</td>\n",
       "      <td>6.5</td>\n",
       "      <td>O</td>\n",
       "      <td>19600310.0</td>\n",
       "    </tr>\n",
       "  </tbody>\n",
       "</table>\n",
       "<p>3785 rows × 4 columns</p>\n",
       "</div>"
      ],
      "text/plain": [
       "                CID  avg_labresult ABOGROUP       BIRTH\n",
       "0     0090121016404            5.3        B  19890315.0\n",
       "1     0090801061032            9.4        O  19680101.0\n",
       "2     1103700465804            6.5        O  19910517.0\n",
       "3     1199900011152            7.0        O  19840409.0\n",
       "4     1250300013325            6.1       AB  19851231.0\n",
       "...             ...            ...      ...         ...\n",
       "3780  5969999019679            6.7       AB  19761228.0\n",
       "3781  6015601276080           10.0        O  19701111.0\n",
       "3782  8502087002364            6.3        O  19780512.0\n",
       "3783  8570784009334            6.5        O  19250701.0\n",
       "3784  8571384007297            6.5        O  19600310.0\n",
       "\n",
       "[3785 rows x 4 columns]"
      ]
     },
     "execution_count": 4,
     "metadata": {},
     "output_type": "execute_result"
    }
   ],
   "source": [
    "df_cleaned = df[(df.ABOGROUP.notnull()) & (df.ABOGROUP != 9) & (df.ABOGROUP != np.nan)].reset_index(drop=True)\n",
    "blood_code = {1.0:'A', 2.0:'B', 3:'AB', 4:'O'}\n",
    "df_cleaned['ABOGROUP'] = df_cleaned['ABOGROUP'].map(blood_code)\n",
    "df_cleaned"
   ]
  },
  {
   "cell_type": "code",
   "execution_count": 5,
   "metadata": {},
   "outputs": [
    {
     "data": {
      "text/html": [
       "<div>\n",
       "<style scoped>\n",
       "    .dataframe tbody tr th:only-of-type {\n",
       "        vertical-align: middle;\n",
       "    }\n",
       "\n",
       "    .dataframe tbody tr th {\n",
       "        vertical-align: top;\n",
       "    }\n",
       "\n",
       "    .dataframe thead th {\n",
       "        text-align: right;\n",
       "    }\n",
       "</style>\n",
       "<table border=\"1\" class=\"dataframe\">\n",
       "  <thead>\n",
       "    <tr style=\"text-align: right;\">\n",
       "      <th></th>\n",
       "      <th>Blood Group</th>\n",
       "      <th>Count</th>\n",
       "    </tr>\n",
       "  </thead>\n",
       "  <tbody>\n",
       "    <tr>\n",
       "      <th>0</th>\n",
       "      <td>A</td>\n",
       "      <td>347</td>\n",
       "    </tr>\n",
       "    <tr>\n",
       "      <th>1</th>\n",
       "      <td>AB</td>\n",
       "      <td>145</td>\n",
       "    </tr>\n",
       "    <tr>\n",
       "      <th>2</th>\n",
       "      <td>B</td>\n",
       "      <td>645</td>\n",
       "    </tr>\n",
       "    <tr>\n",
       "      <th>3</th>\n",
       "      <td>O</td>\n",
       "      <td>2612</td>\n",
       "    </tr>\n",
       "  </tbody>\n",
       "</table>\n",
       "</div>"
      ],
      "text/plain": [
       "  Blood Group  Count\n",
       "0           A    347\n",
       "1          AB    145\n",
       "2           B    645\n",
       "3           O   2612"
      ]
     },
     "metadata": {},
     "output_type": "display_data"
    }
   ],
   "source": [
    "count_df = df_cleaned[(df_cleaned.avg_labresult <= 15) & (df_cleaned.avg_labresult > 0)].groupby('ABOGROUP')['avg_labresult'].count().reset_index()\n",
    "count_df.columns = ['Blood Group', 'Count']\n",
    "display(count_df)"
   ]
  },
  {
   "cell_type": "code",
   "execution_count": 6,
   "metadata": {},
   "outputs": [
    {
     "name": "stderr",
     "output_type": "stream",
     "text": [
      "C:\\Users\\User\\AppData\\Local\\Temp\\ipykernel_18284\\923558250.py:1: FutureWarning: The default value of numeric_only in DataFrameGroupBy.mean is deprecated. In a future version, numeric_only will default to False. Either specify numeric_only or select only columns which should be valid for the function.\n",
      "  grouped_df = df_cleaned[(df_cleaned.avg_labresult <= 15) & (df_cleaned.avg_labresult > 0)].groupby('ABOGROUP').agg(np.mean)['avg_labresult'].reset_index()\n"
     ]
    },
    {
     "data": {
      "text/html": [
       "<div>\n",
       "<style scoped>\n",
       "    .dataframe tbody tr th:only-of-type {\n",
       "        vertical-align: middle;\n",
       "    }\n",
       "\n",
       "    .dataframe tbody tr th {\n",
       "        vertical-align: top;\n",
       "    }\n",
       "\n",
       "    .dataframe thead th {\n",
       "        text-align: right;\n",
       "    }\n",
       "</style>\n",
       "<table border=\"1\" class=\"dataframe\">\n",
       "  <thead>\n",
       "    <tr style=\"text-align: right;\">\n",
       "      <th></th>\n",
       "      <th>Blood Group</th>\n",
       "      <th>HbA1C (mean)</th>\n",
       "    </tr>\n",
       "  </thead>\n",
       "  <tbody>\n",
       "    <tr>\n",
       "      <th>0</th>\n",
       "      <td>A</td>\n",
       "      <td>7.321902</td>\n",
       "    </tr>\n",
       "    <tr>\n",
       "      <th>1</th>\n",
       "      <td>AB</td>\n",
       "      <td>7.233034</td>\n",
       "    </tr>\n",
       "    <tr>\n",
       "      <th>2</th>\n",
       "      <td>B</td>\n",
       "      <td>7.282031</td>\n",
       "    </tr>\n",
       "    <tr>\n",
       "      <th>3</th>\n",
       "      <td>O</td>\n",
       "      <td>7.231842</td>\n",
       "    </tr>\n",
       "  </tbody>\n",
       "</table>\n",
       "</div>"
      ],
      "text/plain": [
       "  Blood Group  HbA1C (mean)\n",
       "0           A      7.321902\n",
       "1          AB      7.233034\n",
       "2           B      7.282031\n",
       "3           O      7.231842"
      ]
     },
     "metadata": {},
     "output_type": "display_data"
    }
   ],
   "source": [
    "grouped_df = df_cleaned[(df_cleaned.avg_labresult <= 15) & (df_cleaned.avg_labresult > 0)].groupby('ABOGROUP').agg(np.mean)['avg_labresult'].reset_index()\n",
    "grouped_df.columns = ['Blood Group', 'HbA1C (mean)']\n",
    "display(grouped_df)"
   ]
  },
  {
   "cell_type": "code",
   "execution_count": 7,
   "metadata": {},
   "outputs": [
    {
     "data": {
      "text/html": [
       "<div>\n",
       "<style scoped>\n",
       "    .dataframe tbody tr th:only-of-type {\n",
       "        vertical-align: middle;\n",
       "    }\n",
       "\n",
       "    .dataframe tbody tr th {\n",
       "        vertical-align: top;\n",
       "    }\n",
       "\n",
       "    .dataframe thead th {\n",
       "        text-align: right;\n",
       "    }\n",
       "</style>\n",
       "<table border=\"1\" class=\"dataframe\">\n",
       "  <thead>\n",
       "    <tr style=\"text-align: right;\">\n",
       "      <th></th>\n",
       "      <th>Blood Group</th>\n",
       "      <th>Count</th>\n",
       "      <th>HbA1C (mean)</th>\n",
       "    </tr>\n",
       "  </thead>\n",
       "  <tbody>\n",
       "    <tr>\n",
       "      <th>0</th>\n",
       "      <td>A</td>\n",
       "      <td>347</td>\n",
       "      <td>7.321902</td>\n",
       "    </tr>\n",
       "    <tr>\n",
       "      <th>1</th>\n",
       "      <td>AB</td>\n",
       "      <td>145</td>\n",
       "      <td>7.233034</td>\n",
       "    </tr>\n",
       "    <tr>\n",
       "      <th>2</th>\n",
       "      <td>B</td>\n",
       "      <td>645</td>\n",
       "      <td>7.282031</td>\n",
       "    </tr>\n",
       "    <tr>\n",
       "      <th>3</th>\n",
       "      <td>O</td>\n",
       "      <td>2612</td>\n",
       "      <td>7.231842</td>\n",
       "    </tr>\n",
       "  </tbody>\n",
       "</table>\n",
       "</div>"
      ],
      "text/plain": [
       "  Blood Group  Count  HbA1C (mean)\n",
       "0           A    347      7.321902\n",
       "1          AB    145      7.233034\n",
       "2           B    645      7.282031\n",
       "3           O   2612      7.231842"
      ]
     },
     "metadata": {},
     "output_type": "display_data"
    }
   ],
   "source": [
    "join_df = count_df.merge(grouped_df, on='Blood Group', how='inner')\n",
    "display(join_df)"
   ]
  },
  {
   "cell_type": "code",
   "execution_count": 8,
   "metadata": {},
   "outputs": [
    {
     "data": {
      "text/plain": [
       "Text(0, 0.5, 'HbA1C level')"
      ]
     },
     "execution_count": 8,
     "metadata": {},
     "output_type": "execute_result"
    },
    {
     "data": {
      "image/png": "[encoded data removed]",
      "text/plain": [
       "<Figure size 640x480 with 1 Axes>"
      ]
     },
     "metadata": {},
     "output_type": "display_data"
    }
   ],
   "source": [
    "sns.set_style('darkgrid')\n",
    "sns.boxplot(data=df_cleaned[(df_cleaned.avg_labresult <= 15) & (df_cleaned.avg_labresult > 0)], x='ABOGROUP', y='avg_labresult', showfliers=False, order=['A','B','AB','O'])\n",
    "plt.title(\"HbA1C among blood group\")\n",
    "plt.xlabel(\"Blood Group\")\n",
    "plt.ylabel(\"HbA1C level\")"
   ]
  },
  {
   "cell_type": "code",
   "execution_count": 9,
   "metadata": {},
   "outputs": [
    {
     "name": "stdout",
     "output_type": "stream",
     "text": [
      "     Source  ddof1  ddof2         F     p-unc       np2\n",
      "0  ABOGROUP      3   3745  0.328326  0.804886  0.000263\n"
     ]
    },
    {
     "name": "stderr",
     "output_type": "stream",
     "text": [
      "c:\\Users\\User\\AppData\\Local\\Programs\\Python\\Python310\\lib\\site-packages\\pingouin\\parametric.py:992: FutureWarning: Not prepending group keys to the result index of transform-like apply. In the future, the group keys will be included in the index, regardless of whether the applied function returns a like-indexed object.\n",
      "To preserve the previous behavior, use\n",
      "\n",
      "\t>>> .groupby(..., group_keys=False)\n",
      "\n",
      "To adopt the future behavior and silence this warning, use \n",
      "\n",
      "\t>>> .groupby(..., group_keys=True)\n",
      "  sserror = grp.apply(lambda x: (x - x.mean()) ** 2).sum()\n",
      "c:\\Users\\User\\AppData\\Local\\Programs\\Python\\Python310\\lib\\site-packages\\outdated\\utils.py:14: OutdatedPackageWarning: The package pingouin is out of date. Your version is 0.5.2, the latest is 0.5.3.\n",
      "Set the environment variable OUTDATED_IGNORE=1 to disable these warnings.\n",
      "  return warn(\n"
     ]
    }
   ],
   "source": [
    "import pingouin as pg\n",
    "\n",
    "# Perform multi-way ANOVA\n",
    "aov = pg.anova(data=df_cleaned[(df_cleaned.avg_labresult <= 15) & (df_cleaned.avg_labresult > 0)], dv='avg_labresult', between=['ABOGROUP'])\n",
    "\n",
    "# Print the ANOVA results\n",
    "print(aov)"
   ]
  },
  {
   "cell_type": "code",
   "execution_count": 10,
   "metadata": {},
   "outputs": [
    {
     "data": {
      "text/html": [
       "<div>\n",
       "<style scoped>\n",
       "    .dataframe tbody tr th:only-of-type {\n",
       "        vertical-align: middle;\n",
       "    }\n",
       "\n",
       "    .dataframe tbody tr th {\n",
       "        vertical-align: top;\n",
       "    }\n",
       "\n",
       "    .dataframe thead th {\n",
       "        text-align: right;\n",
       "    }\n",
       "</style>\n",
       "<table border=\"1\" class=\"dataframe\">\n",
       "  <thead>\n",
       "    <tr style=\"text-align: right;\">\n",
       "      <th></th>\n",
       "      <th>W</th>\n",
       "      <th>pval</th>\n",
       "      <th>normal</th>\n",
       "    </tr>\n",
       "  </thead>\n",
       "  <tbody>\n",
       "    <tr>\n",
       "      <th>avg_labresult</th>\n",
       "      <td>0.893757</td>\n",
       "      <td>4.203895e-45</td>\n",
       "      <td>False</td>\n",
       "    </tr>\n",
       "  </tbody>\n",
       "</table>\n",
       "</div>"
      ],
      "text/plain": [
       "                      W          pval  normal\n",
       "avg_labresult  0.893757  4.203895e-45   False"
      ]
     },
     "metadata": {},
     "output_type": "display_data"
    },
    {
     "data": {
      "text/plain": [
       "<AxesSubplot: title={'center': 'Q-Q Plot'}, xlabel='Theoretical quantiles', ylabel='Ordered quantiles'>"
      ]
     },
     "execution_count": 10,
     "metadata": {},
     "output_type": "execute_result"
    },
    {
     "data": {
      "image/png": "[encoded data removed]",
      "text/plain": [
       "<Figure size 500x400 with 1 Axes>"
      ]
     },
     "metadata": {},
     "output_type": "display_data"
    }
   ],
   "source": [
    "normality = pg.normality(df_cleaned[(df_cleaned.avg_labresult <= 15) & (df_cleaned.avg_labresult > 0)]['avg_labresult'])\n",
    "\n",
    "# Print the normality test results\n",
    "display(normality)\n",
    "pg.qqplot(df_cleaned[(df_cleaned.avg_labresult <= 15) & (df_cleaned.avg_labresult > 0)]['avg_labresult'])"
   ]
  },
  {
   "cell_type": "code",
   "execution_count": 11,
   "metadata": {},
   "outputs": [
    {
     "name": "stdout",
     "output_type": "stream",
     "text": [
      "           Source  ddof1        H     p-unc\n",
      "Kruskal  ABOGROUP      3  0.85001  0.837472\n"
     ]
    }
   ],
   "source": [
    "kruskal = pg.kruskal(data=df_cleaned[(df_cleaned.avg_labresult <= 15) & (df_cleaned.avg_labresult > 0)], dv='avg_labresult', between='ABOGROUP')\n",
    "\n",
    "# Print the Kruskal-Wallis test results\n",
    "print(kruskal)"
   ]
  },
  {
   "cell_type": "code",
   "execution_count": 12,
   "metadata": {},
   "outputs": [
    {
     "data": {
      "text/html": [
       "<div>\n",
       "<style scoped>\n",
       "    .dataframe tbody tr th:only-of-type {\n",
       "        vertical-align: middle;\n",
       "    }\n",
       "\n",
       "    .dataframe tbody tr th {\n",
       "        vertical-align: top;\n",
       "    }\n",
       "\n",
       "    .dataframe thead th {\n",
       "        text-align: right;\n",
       "    }\n",
       "</style>\n",
       "<table border=\"1\" class=\"dataframe\">\n",
       "  <thead>\n",
       "    <tr style=\"text-align: right;\">\n",
       "      <th></th>\n",
       "      <th>A</th>\n",
       "      <th>B</th>\n",
       "      <th>mean(A)</th>\n",
       "      <th>mean(B)</th>\n",
       "      <th>diff</th>\n",
       "      <th>se</th>\n",
       "      <th>T</th>\n",
       "      <th>df</th>\n",
       "      <th>pval</th>\n",
       "      <th>hedges</th>\n",
       "    </tr>\n",
       "  </thead>\n",
       "  <tbody>\n",
       "    <tr>\n",
       "      <th>0</th>\n",
       "      <td>A</td>\n",
       "      <td>AB</td>\n",
       "      <td>7.321902</td>\n",
       "      <td>7.233034</td>\n",
       "      <td>0.088868</td>\n",
       "      <td>0.179867</td>\n",
       "      <td>0.494074</td>\n",
       "      <td>304.893269</td>\n",
       "      <td>0.960371</td>\n",
       "      <td>0.048782</td>\n",
       "    </tr>\n",
       "    <tr>\n",
       "      <th>1</th>\n",
       "      <td>A</td>\n",
       "      <td>B</td>\n",
       "      <td>7.321902</td>\n",
       "      <td>7.282031</td>\n",
       "      <td>0.039871</td>\n",
       "      <td>0.129174</td>\n",
       "      <td>0.308661</td>\n",
       "      <td>667.538430</td>\n",
       "      <td>0.989797</td>\n",
       "      <td>0.020534</td>\n",
       "    </tr>\n",
       "    <tr>\n",
       "      <th>2</th>\n",
       "      <td>A</td>\n",
       "      <td>O</td>\n",
       "      <td>7.321902</td>\n",
       "      <td>7.231842</td>\n",
       "      <td>0.090061</td>\n",
       "      <td>0.112439</td>\n",
       "      <td>0.800973</td>\n",
       "      <td>427.713166</td>\n",
       "      <td>0.853949</td>\n",
       "      <td>0.045754</td>\n",
       "    </tr>\n",
       "    <tr>\n",
       "      <th>3</th>\n",
       "      <td>AB</td>\n",
       "      <td>B</td>\n",
       "      <td>7.233034</td>\n",
       "      <td>7.282031</td>\n",
       "      <td>-0.048997</td>\n",
       "      <td>0.162220</td>\n",
       "      <td>-0.302037</td>\n",
       "      <td>223.111942</td>\n",
       "      <td>0.990407</td>\n",
       "      <td>-0.027733</td>\n",
       "    </tr>\n",
       "    <tr>\n",
       "      <th>4</th>\n",
       "      <td>AB</td>\n",
       "      <td>O</td>\n",
       "      <td>7.233034</td>\n",
       "      <td>7.231842</td>\n",
       "      <td>0.001193</td>\n",
       "      <td>0.149238</td>\n",
       "      <td>0.007994</td>\n",
       "      <td>162.081267</td>\n",
       "      <td>1.000000</td>\n",
       "      <td>0.000682</td>\n",
       "    </tr>\n",
       "    <tr>\n",
       "      <th>5</th>\n",
       "      <td>B</td>\n",
       "      <td>O</td>\n",
       "      <td>7.282031</td>\n",
       "      <td>7.231842</td>\n",
       "      <td>0.050190</td>\n",
       "      <td>0.081276</td>\n",
       "      <td>0.617517</td>\n",
       "      <td>977.236436</td>\n",
       "      <td>0.926504</td>\n",
       "      <td>0.027145</td>\n",
       "    </tr>\n",
       "  </tbody>\n",
       "</table>\n",
       "</div>"
      ],
      "text/plain": [
       "    A   B   mean(A)   mean(B)      diff        se         T          df  \\\n",
       "0   A  AB  7.321902  7.233034  0.088868  0.179867  0.494074  304.893269   \n",
       "1   A   B  7.321902  7.282031  0.039871  0.129174  0.308661  667.538430   \n",
       "2   A   O  7.321902  7.231842  0.090061  0.112439  0.800973  427.713166   \n",
       "3  AB   B  7.233034  7.282031 -0.048997  0.162220 -0.302037  223.111942   \n",
       "4  AB   O  7.233034  7.231842  0.001193  0.149238  0.007994  162.081267   \n",
       "5   B   O  7.282031  7.231842  0.050190  0.081276  0.617517  977.236436   \n",
       "\n",
       "       pval    hedges  \n",
       "0  0.960371  0.048782  \n",
       "1  0.989797  0.020534  \n",
       "2  0.853949  0.045754  \n",
       "3  0.990407 -0.027733  \n",
       "4  1.000000  0.000682  \n",
       "5  0.926504  0.027145  "
      ]
     },
     "metadata": {},
     "output_type": "display_data"
    }
   ],
   "source": [
    "# Perform multiple comparisons between ABOGROUP levels\n",
    "gameshowell = pg.pairwise_gameshowell(data=df_cleaned[(df_cleaned.avg_labresult <= 15) & (df_cleaned.avg_labresult > 0)], dv='avg_labresult', between='ABOGROUP')\n",
    "\n",
    "# Print the multiple comparisons results\n",
    "display(gameshowell)"
   ]
  },
  {
   "attachments": {},
   "cell_type": "markdown",
   "metadata": {},
   "source": [
    "starting Project 2"
   ]
  },
  {
   "cell_type": "code",
   "execution_count": 13,
   "metadata": {},
   "outputs": [],
   "source": [
    "df_dob = df_cleaned.copy()\n",
    "df_dob.BIRTH = df_dob.BIRTH.astype(int)"
   ]
  },
  {
   "cell_type": "code",
   "execution_count": 14,
   "metadata": {},
   "outputs": [],
   "source": [
    "df_dob.BIRTH = pd.to_datetime(df_dob.BIRTH, format='%Y%m%d')\n",
    "df_dob['weekday'] = df_dob.BIRTH.dt.weekday\n",
    "df_dob['month'] = df_dob.BIRTH.dt.month_name()"
   ]
  },
  {
   "cell_type": "code",
   "execution_count": 15,
   "metadata": {},
   "outputs": [],
   "source": [
    "day_of_week = {0:'monday', 1:'tuesday', 2:'wednesday', 3:'thursday', 4:'friday', 5:'saturday', 6:'sunday'}\n",
    "df_dob['weekday'] = df_dob['weekday'].map(day_of_week)"
   ]
  },
  {
   "cell_type": "code",
   "execution_count": 16,
   "metadata": {},
   "outputs": [
    {
     "data": {
      "text/html": [
       "<div>\n",
       "<style scoped>\n",
       "    .dataframe tbody tr th:only-of-type {\n",
       "        vertical-align: middle;\n",
       "    }\n",
       "\n",
       "    .dataframe tbody tr th {\n",
       "        vertical-align: top;\n",
       "    }\n",
       "\n",
       "    .dataframe thead th {\n",
       "        text-align: right;\n",
       "    }\n",
       "</style>\n",
       "<table border=\"1\" class=\"dataframe\">\n",
       "  <thead>\n",
       "    <tr style=\"text-align: right;\">\n",
       "      <th></th>\n",
       "      <th>CID</th>\n",
       "      <th>avg_labresult</th>\n",
       "      <th>ABOGROUP</th>\n",
       "      <th>BIRTH</th>\n",
       "      <th>weekday</th>\n",
       "      <th>month</th>\n",
       "    </tr>\n",
       "  </thead>\n",
       "  <tbody>\n",
       "    <tr>\n",
       "      <th>0</th>\n",
       "      <td>0090121016404</td>\n",
       "      <td>5.3</td>\n",
       "      <td>B</td>\n",
       "      <td>1989-03-15</td>\n",
       "      <td>wednesday</td>\n",
       "      <td>March</td>\n",
       "    </tr>\n",
       "    <tr>\n",
       "      <th>1</th>\n",
       "      <td>0090801061032</td>\n",
       "      <td>9.4</td>\n",
       "      <td>O</td>\n",
       "      <td>1968-01-01</td>\n",
       "      <td>monday</td>\n",
       "      <td>January</td>\n",
       "    </tr>\n",
       "    <tr>\n",
       "      <th>2</th>\n",
       "      <td>1103700465804</td>\n",
       "      <td>6.5</td>\n",
       "      <td>O</td>\n",
       "      <td>1991-05-17</td>\n",
       "      <td>friday</td>\n",
       "      <td>May</td>\n",
       "    </tr>\n",
       "    <tr>\n",
       "      <th>3</th>\n",
       "      <td>1199900011152</td>\n",
       "      <td>7.0</td>\n",
       "      <td>O</td>\n",
       "      <td>1984-04-09</td>\n",
       "      <td>monday</td>\n",
       "      <td>April</td>\n",
       "    </tr>\n",
       "    <tr>\n",
       "      <th>4</th>\n",
       "      <td>1250300013325</td>\n",
       "      <td>6.1</td>\n",
       "      <td>AB</td>\n",
       "      <td>1985-12-31</td>\n",
       "      <td>tuesday</td>\n",
       "      <td>December</td>\n",
       "    </tr>\n",
       "    <tr>\n",
       "      <th>...</th>\n",
       "      <td>...</td>\n",
       "      <td>...</td>\n",
       "      <td>...</td>\n",
       "      <td>...</td>\n",
       "      <td>...</td>\n",
       "      <td>...</td>\n",
       "    </tr>\n",
       "    <tr>\n",
       "      <th>3780</th>\n",
       "      <td>5969999019679</td>\n",
       "      <td>6.7</td>\n",
       "      <td>AB</td>\n",
       "      <td>1976-12-28</td>\n",
       "      <td>tuesday</td>\n",
       "      <td>December</td>\n",
       "    </tr>\n",
       "    <tr>\n",
       "      <th>3781</th>\n",
       "      <td>6015601276080</td>\n",
       "      <td>10.0</td>\n",
       "      <td>O</td>\n",
       "      <td>1970-11-11</td>\n",
       "      <td>wednesday</td>\n",
       "      <td>November</td>\n",
       "    </tr>\n",
       "    <tr>\n",
       "      <th>3782</th>\n",
       "      <td>8502087002364</td>\n",
       "      <td>6.3</td>\n",
       "      <td>O</td>\n",
       "      <td>1978-05-12</td>\n",
       "      <td>friday</td>\n",
       "      <td>May</td>\n",
       "    </tr>\n",
       "    <tr>\n",
       "      <th>3783</th>\n",
       "      <td>8570784009334</td>\n",
       "      <td>6.5</td>\n",
       "      <td>O</td>\n",
       "      <td>1925-07-01</td>\n",
       "      <td>wednesday</td>\n",
       "      <td>July</td>\n",
       "    </tr>\n",
       "    <tr>\n",
       "      <th>3784</th>\n",
       "      <td>8571384007297</td>\n",
       "      <td>6.5</td>\n",
       "      <td>O</td>\n",
       "      <td>1960-03-10</td>\n",
       "      <td>thursday</td>\n",
       "      <td>March</td>\n",
       "    </tr>\n",
       "  </tbody>\n",
       "</table>\n",
       "<p>3785 rows × 6 columns</p>\n",
       "</div>"
      ],
      "text/plain": [
       "                CID  avg_labresult ABOGROUP      BIRTH    weekday     month\n",
       "0     0090121016404            5.3        B 1989-03-15  wednesday     March\n",
       "1     0090801061032            9.4        O 1968-01-01     monday   January\n",
       "2     1103700465804            6.5        O 1991-05-17     friday       May\n",
       "3     1199900011152            7.0        O 1984-04-09     monday     April\n",
       "4     1250300013325            6.1       AB 1985-12-31    tuesday  December\n",
       "...             ...            ...      ...        ...        ...       ...\n",
       "3780  5969999019679            6.7       AB 1976-12-28    tuesday  December\n",
       "3781  6015601276080           10.0        O 1970-11-11  wednesday  November\n",
       "3782  8502087002364            6.3        O 1978-05-12     friday       May\n",
       "3783  8570784009334            6.5        O 1925-07-01  wednesday      July\n",
       "3784  8571384007297            6.5        O 1960-03-10   thursday     March\n",
       "\n",
       "[3785 rows x 6 columns]"
      ]
     },
     "execution_count": 16,
     "metadata": {},
     "output_type": "execute_result"
    }
   ],
   "source": [
    "df_dob"
   ]
  },
  {
   "cell_type": "code",
   "execution_count": 17,
   "metadata": {},
   "outputs": [
    {
     "data": {
      "text/plain": [
       "Text(0, 0.5, 'HbA1C level')"
      ]
     },
     "execution_count": 17,
     "metadata": {},
     "output_type": "execute_result"
    },
    {
     "data": {
      "text/plain": [
       "<Figure size 640x480 with 0 Axes>"
      ]
     },
     "metadata": {},
     "output_type": "display_data"
    },
    {
     "data": {
      "image/png": "[encoded data removed]",
      "text/plain": [
       "<Figure size 2000x1000 with 1 Axes>"
      ]
     },
     "metadata": {},
     "output_type": "display_data"
    }
   ],
   "source": [
    "df_dob['ABOGROUP'] = df_dob['ABOGROUP'].astype('category')\n",
    "df_dob['ABOGROUP'] = df_dob['ABOGROUP'].cat.reorder_categories(['A','B','AB','O'])\n",
    "df_dob['month'] = df_dob['month'].astype('category')\n",
    "df_dob['month'] = df_dob['month'].cat.reorder_categories(['January', 'February', 'March', 'April', 'May', 'June', 'July', 'August', 'September', 'October', 'November', 'December'])\n",
    "\n",
    "plt.clf()\n",
    "plt.figure(figsize=(20,10))\n",
    "sns.boxplot(data=df_dob[(df_dob.avg_labresult <= 15) & (df_dob.avg_labresult > 0)], x='weekday', y='avg_labresult', hue='month', showfliers=False, order=['monday', 'tuesday', 'wednesday', 'thursday', 'friday', 'saturday', 'sunday'])\n",
    "plt.title(\"HbA1C among day of birth\")\n",
    "plt.xlabel(\"day of birth\")\n",
    "plt.ylabel(\"HbA1C level\")"
   ]
  },
  {
   "cell_type": "code",
   "execution_count": 18,
   "metadata": {},
   "outputs": [
    {
     "data": {
      "text/html": [
       "<div>\n",
       "<style scoped>\n",
       "    .dataframe tbody tr th:only-of-type {\n",
       "        vertical-align: middle;\n",
       "    }\n",
       "\n",
       "    .dataframe tbody tr th {\n",
       "        vertical-align: top;\n",
       "    }\n",
       "\n",
       "    .dataframe thead th {\n",
       "        text-align: right;\n",
       "    }\n",
       "</style>\n",
       "<table border=\"1\" class=\"dataframe\">\n",
       "  <thead>\n",
       "    <tr style=\"text-align: right;\">\n",
       "      <th></th>\n",
       "      <th>W</th>\n",
       "      <th>pval</th>\n",
       "      <th>normal</th>\n",
       "    </tr>\n",
       "  </thead>\n",
       "  <tbody>\n",
       "    <tr>\n",
       "      <th>avg_labresult</th>\n",
       "      <td>0.893757</td>\n",
       "      <td>4.203895e-45</td>\n",
       "      <td>False</td>\n",
       "    </tr>\n",
       "  </tbody>\n",
       "</table>\n",
       "</div>"
      ],
      "text/plain": [
       "                      W          pval  normal\n",
       "avg_labresult  0.893757  4.203895e-45   False"
      ]
     },
     "metadata": {},
     "output_type": "display_data"
    }
   ],
   "source": [
    "normality_day = pg.normality(df_dob[(df_dob.avg_labresult <= 15) & (df_dob.avg_labresult > 0)]['avg_labresult'])\n",
    "\n",
    "# Print the normality test results\n",
    "display(normality_day)"
   ]
  },
  {
   "cell_type": "code",
   "execution_count": 19,
   "metadata": {},
   "outputs": [
    {
     "name": "stdout",
     "output_type": "stream",
     "text": [
      "        Source  ddof1          H     p-unc\n",
      "Kruskal  month     11  20.787647  0.035639\n"
     ]
    }
   ],
   "source": [
    "kruskal_day = pg.kruskal(data=df_dob[(df_dob.avg_labresult <= 15) & (df_dob.avg_labresult > 0)], dv='avg_labresult', between='month')\n",
    "\n",
    "# Print the Kruskal-Wallis test results\n",
    "print(kruskal_day)"
   ]
  },
  {
   "cell_type": "code",
   "execution_count": 20,
   "metadata": {},
   "outputs": [
    {
     "name": "stderr",
     "output_type": "stream",
     "text": [
      "c:\\Users\\User\\AppData\\Local\\Programs\\Python\\Python310\\lib\\site-packages\\pingouin\\parametric.py:992: FutureWarning: Not prepending group keys to the result index of transform-like apply. In the future, the group keys will be included in the index, regardless of whether the applied function returns a like-indexed object.\n",
      "To preserve the previous behavior, use\n",
      "\n",
      "\t>>> .groupby(..., group_keys=False)\n",
      "\n",
      "To adopt the future behavior and silence this warning, use \n",
      "\n",
      "\t>>> .groupby(..., group_keys=True)\n",
      "  sserror = grp.apply(lambda x: (x - x.mean()) ** 2).sum()\n"
     ]
    },
    {
     "data": {
      "text/html": [
       "<div>\n",
       "<style scoped>\n",
       "    .dataframe tbody tr th:only-of-type {\n",
       "        vertical-align: middle;\n",
       "    }\n",
       "\n",
       "    .dataframe tbody tr th {\n",
       "        vertical-align: top;\n",
       "    }\n",
       "\n",
       "    .dataframe thead th {\n",
       "        text-align: right;\n",
       "    }\n",
       "</style>\n",
       "<table border=\"1\" class=\"dataframe\">\n",
       "  <thead>\n",
       "    <tr style=\"text-align: right;\">\n",
       "      <th></th>\n",
       "      <th>A</th>\n",
       "      <th>B</th>\n",
       "      <th>mean(A)</th>\n",
       "      <th>mean(B)</th>\n",
       "      <th>diff</th>\n",
       "      <th>se</th>\n",
       "      <th>T</th>\n",
       "      <th>df</th>\n",
       "      <th>pval</th>\n",
       "      <th>hedges</th>\n",
       "    </tr>\n",
       "  </thead>\n",
       "  <tbody>\n",
       "    <tr>\n",
       "      <th>0</th>\n",
       "      <td>March</td>\n",
       "      <td>January</td>\n",
       "      <td>7.449556</td>\n",
       "      <td>7.312889</td>\n",
       "      <td>0.136667</td>\n",
       "      <td>0.142893</td>\n",
       "      <td>0.956435</td>\n",
       "      <td>567.943314</td>\n",
       "      <td>0.998445</td>\n",
       "      <td>0.070432</td>\n",
       "    </tr>\n",
       "    <tr>\n",
       "      <th>1</th>\n",
       "      <td>March</td>\n",
       "      <td>May</td>\n",
       "      <td>7.449556</td>\n",
       "      <td>7.362591</td>\n",
       "      <td>0.086965</td>\n",
       "      <td>0.159534</td>\n",
       "      <td>0.545118</td>\n",
       "      <td>587.242945</td>\n",
       "      <td>0.999994</td>\n",
       "      <td>0.044680</td>\n",
       "    </tr>\n",
       "    <tr>\n",
       "      <th>2</th>\n",
       "      <td>March</td>\n",
       "      <td>April</td>\n",
       "      <td>7.449556</td>\n",
       "      <td>7.100968</td>\n",
       "      <td>0.348589</td>\n",
       "      <td>0.157168</td>\n",
       "      <td>2.217938</td>\n",
       "      <td>565.949100</td>\n",
       "      <td>0.537224</td>\n",
       "      <td>0.185285</td>\n",
       "    </tr>\n",
       "    <tr>\n",
       "      <th>3</th>\n",
       "      <td>March</td>\n",
       "      <td>December</td>\n",
       "      <td>7.449556</td>\n",
       "      <td>7.182046</td>\n",
       "      <td>0.267510</td>\n",
       "      <td>0.160587</td>\n",
       "      <td>1.665823</td>\n",
       "      <td>549.999808</td>\n",
       "      <td>0.882886</td>\n",
       "      <td>0.141880</td>\n",
       "    </tr>\n",
       "    <tr>\n",
       "      <th>4</th>\n",
       "      <td>March</td>\n",
       "      <td>October</td>\n",
       "      <td>7.449556</td>\n",
       "      <td>7.209964</td>\n",
       "      <td>0.239592</td>\n",
       "      <td>0.165123</td>\n",
       "      <td>1.450992</td>\n",
       "      <td>569.778355</td>\n",
       "      <td>0.952617</td>\n",
       "      <td>0.121215</td>\n",
       "    </tr>\n",
       "    <tr>\n",
       "      <th>...</th>\n",
       "      <td>...</td>\n",
       "      <td>...</td>\n",
       "      <td>...</td>\n",
       "      <td>...</td>\n",
       "      <td>...</td>\n",
       "      <td>...</td>\n",
       "      <td>...</td>\n",
       "      <td>...</td>\n",
       "      <td>...</td>\n",
       "      <td>...</td>\n",
       "    </tr>\n",
       "    <tr>\n",
       "      <th>61</th>\n",
       "      <td>February</td>\n",
       "      <td>July</td>\n",
       "      <td>7.375325</td>\n",
       "      <td>7.088184</td>\n",
       "      <td>0.287142</td>\n",
       "      <td>0.144841</td>\n",
       "      <td>1.982462</td>\n",
       "      <td>450.354999</td>\n",
       "      <td>0.705224</td>\n",
       "      <td>0.154185</td>\n",
       "    </tr>\n",
       "    <tr>\n",
       "      <th>62</th>\n",
       "      <td>February</td>\n",
       "      <td>September</td>\n",
       "      <td>7.375325</td>\n",
       "      <td>7.453779</td>\n",
       "      <td>-0.078453</td>\n",
       "      <td>0.169153</td>\n",
       "      <td>-0.463802</td>\n",
       "      <td>503.452845</td>\n",
       "      <td>0.999999</td>\n",
       "      <td>-0.041115</td>\n",
       "    </tr>\n",
       "    <tr>\n",
       "      <th>63</th>\n",
       "      <td>June</td>\n",
       "      <td>July</td>\n",
       "      <td>7.240982</td>\n",
       "      <td>7.088184</td>\n",
       "      <td>0.152798</td>\n",
       "      <td>0.134530</td>\n",
       "      <td>1.135791</td>\n",
       "      <td>546.527094</td>\n",
       "      <td>0.992943</td>\n",
       "      <td>0.085158</td>\n",
       "    </tr>\n",
       "    <tr>\n",
       "      <th>64</th>\n",
       "      <td>June</td>\n",
       "      <td>September</td>\n",
       "      <td>7.240982</td>\n",
       "      <td>7.453779</td>\n",
       "      <td>-0.212797</td>\n",
       "      <td>0.160413</td>\n",
       "      <td>-1.326559</td>\n",
       "      <td>530.473241</td>\n",
       "      <td>0.975418</td>\n",
       "      <td>-0.114363</td>\n",
       "    </tr>\n",
       "    <tr>\n",
       "      <th>65</th>\n",
       "      <td>July</td>\n",
       "      <td>September</td>\n",
       "      <td>7.088184</td>\n",
       "      <td>7.453779</td>\n",
       "      <td>-0.365595</td>\n",
       "      <td>0.140888</td>\n",
       "      <td>-2.594932</td>\n",
       "      <td>493.668556</td>\n",
       "      <td>0.285368</td>\n",
       "      <td>-0.197647</td>\n",
       "    </tr>\n",
       "  </tbody>\n",
       "</table>\n",
       "<p>66 rows × 10 columns</p>\n",
       "</div>"
      ],
      "text/plain": [
       "           A          B   mean(A)   mean(B)      diff        se         T  \\\n",
       "0      March    January  7.449556  7.312889  0.136667  0.142893  0.956435   \n",
       "1      March        May  7.449556  7.362591  0.086965  0.159534  0.545118   \n",
       "2      March      April  7.449556  7.100968  0.348589  0.157168  2.217938   \n",
       "3      March   December  7.449556  7.182046  0.267510  0.160587  1.665823   \n",
       "4      March    October  7.449556  7.209964  0.239592  0.165123  1.450992   \n",
       "..       ...        ...       ...       ...       ...       ...       ...   \n",
       "61  February       July  7.375325  7.088184  0.287142  0.144841  1.982462   \n",
       "62  February  September  7.375325  7.453779 -0.078453  0.169153 -0.463802   \n",
       "63      June       July  7.240982  7.088184  0.152798  0.134530  1.135791   \n",
       "64      June  September  7.240982  7.453779 -0.212797  0.160413 -1.326559   \n",
       "65      July  September  7.088184  7.453779 -0.365595  0.140888 -2.594932   \n",
       "\n",
       "            df      pval    hedges  \n",
       "0   567.943314  0.998445  0.070432  \n",
       "1   587.242945  0.999994  0.044680  \n",
       "2   565.949100  0.537224  0.185285  \n",
       "3   549.999808  0.882886  0.141880  \n",
       "4   569.778355  0.952617  0.121215  \n",
       "..         ...       ...       ...  \n",
       "61  450.354999  0.705224  0.154185  \n",
       "62  503.452845  0.999999 -0.041115  \n",
       "63  546.527094  0.992943  0.085158  \n",
       "64  530.473241  0.975418 -0.114363  \n",
       "65  493.668556  0.285368 -0.197647  \n",
       "\n",
       "[66 rows x 10 columns]"
      ]
     },
     "metadata": {},
     "output_type": "display_data"
    },
    {
     "data": {
      "text/html": [
       "<div>\n",
       "<style scoped>\n",
       "    .dataframe tbody tr th:only-of-type {\n",
       "        vertical-align: middle;\n",
       "    }\n",
       "\n",
       "    .dataframe tbody tr th {\n",
       "        vertical-align: top;\n",
       "    }\n",
       "\n",
       "    .dataframe thead th {\n",
       "        text-align: right;\n",
       "    }\n",
       "</style>\n",
       "<table border=\"1\" class=\"dataframe\">\n",
       "  <thead>\n",
       "    <tr style=\"text-align: right;\">\n",
       "      <th></th>\n",
       "      <th>A</th>\n",
       "      <th>B</th>\n",
       "      <th>mean(A)</th>\n",
       "      <th>mean(B)</th>\n",
       "      <th>diff</th>\n",
       "      <th>se</th>\n",
       "      <th>T</th>\n",
       "      <th>p-tukey</th>\n",
       "      <th>hedges</th>\n",
       "    </tr>\n",
       "  </thead>\n",
       "  <tbody>\n",
       "    <tr>\n",
       "      <th>0</th>\n",
       "      <td>March</td>\n",
       "      <td>January</td>\n",
       "      <td>7.449556</td>\n",
       "      <td>7.312889</td>\n",
       "      <td>0.136667</td>\n",
       "      <td>0.135805</td>\n",
       "      <td>1.006349</td>\n",
       "      <td>0.997591</td>\n",
       "      <td>0.074107</td>\n",
       "    </tr>\n",
       "    <tr>\n",
       "      <th>1</th>\n",
       "      <td>March</td>\n",
       "      <td>May</td>\n",
       "      <td>7.449556</td>\n",
       "      <td>7.362591</td>\n",
       "      <td>0.086965</td>\n",
       "      <td>0.151205</td>\n",
       "      <td>0.575146</td>\n",
       "      <td>0.999990</td>\n",
       "      <td>0.047142</td>\n",
       "    </tr>\n",
       "    <tr>\n",
       "      <th>2</th>\n",
       "      <td>March</td>\n",
       "      <td>April</td>\n",
       "      <td>7.449556</td>\n",
       "      <td>7.100968</td>\n",
       "      <td>0.348589</td>\n",
       "      <td>0.154117</td>\n",
       "      <td>2.261837</td>\n",
       "      <td>0.504363</td>\n",
       "      <td>0.188952</td>\n",
       "    </tr>\n",
       "    <tr>\n",
       "      <th>3</th>\n",
       "      <td>March</td>\n",
       "      <td>December</td>\n",
       "      <td>7.449556</td>\n",
       "      <td>7.182046</td>\n",
       "      <td>0.267510</td>\n",
       "      <td>0.157136</td>\n",
       "      <td>1.702411</td>\n",
       "      <td>0.867495</td>\n",
       "      <td>0.144996</td>\n",
       "    </tr>\n",
       "    <tr>\n",
       "      <th>4</th>\n",
       "      <td>March</td>\n",
       "      <td>October</td>\n",
       "      <td>7.449556</td>\n",
       "      <td>7.209964</td>\n",
       "      <td>0.239592</td>\n",
       "      <td>0.154117</td>\n",
       "      <td>1.554608</td>\n",
       "      <td>0.924873</td>\n",
       "      <td>0.129871</td>\n",
       "    </tr>\n",
       "    <tr>\n",
       "      <th>...</th>\n",
       "      <td>...</td>\n",
       "      <td>...</td>\n",
       "      <td>...</td>\n",
       "      <td>...</td>\n",
       "      <td>...</td>\n",
       "      <td>...</td>\n",
       "      <td>...</td>\n",
       "      <td>...</td>\n",
       "      <td>...</td>\n",
       "    </tr>\n",
       "    <tr>\n",
       "      <th>61</th>\n",
       "      <td>February</td>\n",
       "      <td>July</td>\n",
       "      <td>7.375325</td>\n",
       "      <td>7.088184</td>\n",
       "      <td>0.287142</td>\n",
       "      <td>0.143438</td>\n",
       "      <td>2.001855</td>\n",
       "      <td>0.692336</td>\n",
       "      <td>0.155693</td>\n",
       "    </tr>\n",
       "    <tr>\n",
       "      <th>62</th>\n",
       "      <td>February</td>\n",
       "      <td>September</td>\n",
       "      <td>7.375325</td>\n",
       "      <td>7.453779</td>\n",
       "      <td>-0.078453</td>\n",
       "      <td>0.163570</td>\n",
       "      <td>-0.479632</td>\n",
       "      <td>0.999998</td>\n",
       "      <td>-0.042518</td>\n",
       "    </tr>\n",
       "    <tr>\n",
       "      <th>63</th>\n",
       "      <td>June</td>\n",
       "      <td>July</td>\n",
       "      <td>7.240982</td>\n",
       "      <td>7.088184</td>\n",
       "      <td>0.152798</td>\n",
       "      <td>0.138272</td>\n",
       "      <td>1.105052</td>\n",
       "      <td>0.994521</td>\n",
       "      <td>0.082853</td>\n",
       "    </tr>\n",
       "    <tr>\n",
       "      <th>64</th>\n",
       "      <td>June</td>\n",
       "      <td>September</td>\n",
       "      <td>7.240982</td>\n",
       "      <td>7.453779</td>\n",
       "      <td>-0.212797</td>\n",
       "      <td>0.159060</td>\n",
       "      <td>-1.337843</td>\n",
       "      <td>0.974168</td>\n",
       "      <td>-0.115336</td>\n",
       "    </tr>\n",
       "    <tr>\n",
       "      <th>65</th>\n",
       "      <td>July</td>\n",
       "      <td>September</td>\n",
       "      <td>7.088184</td>\n",
       "      <td>7.453779</td>\n",
       "      <td>-0.365595</td>\n",
       "      <td>0.140470</td>\n",
       "      <td>-2.602662</td>\n",
       "      <td>0.278319</td>\n",
       "      <td>-0.198236</td>\n",
       "    </tr>\n",
       "  </tbody>\n",
       "</table>\n",
       "<p>66 rows × 9 columns</p>\n",
       "</div>"
      ],
      "text/plain": [
       "           A          B   mean(A)   mean(B)      diff        se         T  \\\n",
       "0      March    January  7.449556  7.312889  0.136667  0.135805  1.006349   \n",
       "1      March        May  7.449556  7.362591  0.086965  0.151205  0.575146   \n",
       "2      March      April  7.449556  7.100968  0.348589  0.154117  2.261837   \n",
       "3      March   December  7.449556  7.182046  0.267510  0.157136  1.702411   \n",
       "4      March    October  7.449556  7.209964  0.239592  0.154117  1.554608   \n",
       "..       ...        ...       ...       ...       ...       ...       ...   \n",
       "61  February       July  7.375325  7.088184  0.287142  0.143438  2.001855   \n",
       "62  February  September  7.375325  7.453779 -0.078453  0.163570 -0.479632   \n",
       "63      June       July  7.240982  7.088184  0.152798  0.138272  1.105052   \n",
       "64      June  September  7.240982  7.453779 -0.212797  0.159060 -1.337843   \n",
       "65      July  September  7.088184  7.453779 -0.365595  0.140470 -2.602662   \n",
       "\n",
       "     p-tukey    hedges  \n",
       "0   0.997591  0.074107  \n",
       "1   0.999990  0.047142  \n",
       "2   0.504363  0.188952  \n",
       "3   0.867495  0.144996  \n",
       "4   0.924873  0.129871  \n",
       "..       ...       ...  \n",
       "61  0.692336  0.155693  \n",
       "62  0.999998 -0.042518  \n",
       "63  0.994521  0.082853  \n",
       "64  0.974168 -0.115336  \n",
       "65  0.278319 -0.198236  \n",
       "\n",
       "[66 rows x 9 columns]"
      ]
     },
     "metadata": {},
     "output_type": "display_data"
    }
   ],
   "source": [
    "# Perform multiple comparisons between ABOGROUP levels\n",
    "gameshowell_day = pg.pairwise_gameshowell(data=df_dob[(df_dob.avg_labresult <= 15) & (df_dob.avg_labresult > 0)], dv='avg_labresult', between='month')\n",
    "tukey = pg.pairwise_tukey(data=df_dob[(df_dob.avg_labresult <= 15) & (df_dob.avg_labresult > 0)], dv='avg_labresult', between='month')\n",
    "\n",
    "# Print the multiple comparisons results\n",
    "display(gameshowell_day)\n",
    "display(tukey)"
   ]
  },
  {
   "cell_type": "code",
   "execution_count": 21,
   "metadata": {},
   "outputs": [],
   "source": [
    "df_ml = df_dob[(df_dob.avg_labresult <= 15) & (df_dob.avg_labresult > 0)][['avg_labresult', 'ABOGROUP', 'weekday', 'month']]"
   ]
  },
  {
   "cell_type": "code",
   "execution_count": 22,
   "metadata": {},
   "outputs": [
    {
     "data": {
      "text/html": [
       "<div>\n",
       "<style scoped>\n",
       "    .dataframe tbody tr th:only-of-type {\n",
       "        vertical-align: middle;\n",
       "    }\n",
       "\n",
       "    .dataframe tbody tr th {\n",
       "        vertical-align: top;\n",
       "    }\n",
       "\n",
       "    .dataframe thead th {\n",
       "        text-align: right;\n",
       "    }\n",
       "</style>\n",
       "<table border=\"1\" class=\"dataframe\">\n",
       "  <thead>\n",
       "    <tr style=\"text-align: right;\">\n",
       "      <th></th>\n",
       "      <th>avg_labresult</th>\n",
       "      <th>ABOGROUP</th>\n",
       "      <th>weekday</th>\n",
       "      <th>month</th>\n",
       "    </tr>\n",
       "  </thead>\n",
       "  <tbody>\n",
       "    <tr>\n",
       "      <th>0</th>\n",
       "      <td>5.3</td>\n",
       "      <td>B</td>\n",
       "      <td>wednesday</td>\n",
       "      <td>March</td>\n",
       "    </tr>\n",
       "    <tr>\n",
       "      <th>1</th>\n",
       "      <td>9.4</td>\n",
       "      <td>O</td>\n",
       "      <td>monday</td>\n",
       "      <td>January</td>\n",
       "    </tr>\n",
       "    <tr>\n",
       "      <th>2</th>\n",
       "      <td>6.5</td>\n",
       "      <td>O</td>\n",
       "      <td>friday</td>\n",
       "      <td>May</td>\n",
       "    </tr>\n",
       "    <tr>\n",
       "      <th>3</th>\n",
       "      <td>7.0</td>\n",
       "      <td>O</td>\n",
       "      <td>monday</td>\n",
       "      <td>April</td>\n",
       "    </tr>\n",
       "    <tr>\n",
       "      <th>4</th>\n",
       "      <td>6.1</td>\n",
       "      <td>AB</td>\n",
       "      <td>tuesday</td>\n",
       "      <td>December</td>\n",
       "    </tr>\n",
       "    <tr>\n",
       "      <th>...</th>\n",
       "      <td>...</td>\n",
       "      <td>...</td>\n",
       "      <td>...</td>\n",
       "      <td>...</td>\n",
       "    </tr>\n",
       "    <tr>\n",
       "      <th>3780</th>\n",
       "      <td>6.7</td>\n",
       "      <td>AB</td>\n",
       "      <td>tuesday</td>\n",
       "      <td>December</td>\n",
       "    </tr>\n",
       "    <tr>\n",
       "      <th>3781</th>\n",
       "      <td>10.0</td>\n",
       "      <td>O</td>\n",
       "      <td>wednesday</td>\n",
       "      <td>November</td>\n",
       "    </tr>\n",
       "    <tr>\n",
       "      <th>3782</th>\n",
       "      <td>6.3</td>\n",
       "      <td>O</td>\n",
       "      <td>friday</td>\n",
       "      <td>May</td>\n",
       "    </tr>\n",
       "    <tr>\n",
       "      <th>3783</th>\n",
       "      <td>6.5</td>\n",
       "      <td>O</td>\n",
       "      <td>wednesday</td>\n",
       "      <td>July</td>\n",
       "    </tr>\n",
       "    <tr>\n",
       "      <th>3784</th>\n",
       "      <td>6.5</td>\n",
       "      <td>O</td>\n",
       "      <td>thursday</td>\n",
       "      <td>March</td>\n",
       "    </tr>\n",
       "  </tbody>\n",
       "</table>\n",
       "<p>3749 rows × 4 columns</p>\n",
       "</div>"
      ],
      "text/plain": [
       "      avg_labresult ABOGROUP    weekday     month\n",
       "0               5.3        B  wednesday     March\n",
       "1               9.4        O     monday   January\n",
       "2               6.5        O     friday       May\n",
       "3               7.0        O     monday     April\n",
       "4               6.1       AB    tuesday  December\n",
       "...             ...      ...        ...       ...\n",
       "3780            6.7       AB    tuesday  December\n",
       "3781           10.0        O  wednesday  November\n",
       "3782            6.3        O     friday       May\n",
       "3783            6.5        O  wednesday      July\n",
       "3784            6.5        O   thursday     March\n",
       "\n",
       "[3749 rows x 4 columns]"
      ]
     },
     "execution_count": 22,
     "metadata": {},
     "output_type": "execute_result"
    }
   ],
   "source": [
    "df_ml"
   ]
  },
  {
   "cell_type": "code",
   "execution_count": 23,
   "metadata": {},
   "outputs": [],
   "source": [
    "import xgboost as xgb\n",
    "from sklearn.model_selection import train_test_split\n",
    "from sklearn.model_selection import GridSearchCV\n",
    "from sklearn.metrics import mean_squared_error"
   ]
  },
  {
   "cell_type": "code",
   "execution_count": 24,
   "metadata": {},
   "outputs": [],
   "source": [
    "# One-hot encode the categorical features\n",
    "df_ml = pd.get_dummies(df_ml, columns=['ABOGROUP', 'weekday', 'month'])\n",
    "\n",
    "# Split the data into training and test sets\n",
    "X = df_ml.drop(columns=['avg_labresult'])\n",
    "y = df_ml['avg_labresult']\n",
    "X_train, X_test, y_train, y_test = train_test_split(X, y, test_size=0.2, random_state=42)"
   ]
  },
  {
   "cell_type": "code",
   "execution_count": 25,
   "metadata": {},
   "outputs": [],
   "source": [
    "# Create a XGBoost regressor object\n",
    "xg_reg = xgb.XGBRegressor(objective='reg:squarederror')\n",
    "\n",
    "# Define the grid of hyperparameters to search\n",
    "param_grid = {'max_depth': [3, 5, 7],\n",
    "              'learning_rate': [0.1, 0.2, 0.3],\n",
    "              'n_estimators': [100, 200, 300]}\n",
    "\n",
    "# Create a GridSearchCV object\n",
    "grid_search = GridSearchCV(xg_reg, param_grid, cv=5, scoring='neg_mean_squared_error')\n"
   ]
  },
  {
   "cell_type": "code",
   "execution_count": 26,
   "metadata": {},
   "outputs": [
    {
     "name": "stdout",
     "output_type": "stream",
     "text": [
      "Best hyperparameters:  {'learning_rate': 0.1, 'max_depth': 3, 'n_estimators': 100}\n"
     ]
    }
   ],
   "source": [
    "# Fit the GridSearchCV object on the data\n",
    "grid_search.fit(X_train, y_train)\n",
    "\n",
    "# Print the best hyperparameters\n",
    "print(\"Best hyperparameters: \", grid_search.best_params_)"
   ]
  },
  {
   "cell_type": "code",
   "execution_count": 27,
   "metadata": {},
   "outputs": [],
   "source": [
    "xg_reg_fine = xgb.XGBRegressor(objective='reg:linear', learning_rate=0.1, max_depth=3, n_estimators=100)"
   ]
  },
  {
   "cell_type": "code",
   "execution_count": 28,
   "metadata": {},
   "outputs": [
    {
     "name": "stdout",
     "output_type": "stream",
     "text": [
      "[22:32:40] WARNING: C:/buildkite-agent/builds/buildkite-windows-cpu-autoscaling-group-i-08de971ced8a8cdc6-1/xgboost/xgboost-ci-windows/src/objective/regression_obj.cu:213: reg:linear is now deprecated in favor of reg:squarederror.\n"
     ]
    }
   ],
   "source": [
    "xg_reg_fine.fit(X_train, y_train)\n",
    "y_pred = xg_reg_fine.predict(X_test)"
   ]
  },
  {
   "cell_type": "code",
   "execution_count": 29,
   "metadata": {},
   "outputs": [
    {
     "data": {
      "text/plain": [
       "'Mean Squared Error: '"
      ]
     },
     "metadata": {},
     "output_type": "display_data"
    },
    {
     "data": {
      "text/plain": [
       "3.3512971687858437"
      ]
     },
     "metadata": {},
     "output_type": "display_data"
    }
   ],
   "source": [
    "mse = mean_squared_error(y_test, y_pred)\n",
    "display(\"Mean Squared Error: \", mse)"
   ]
  },
  {
   "cell_type": "code",
   "execution_count": 30,
   "metadata": {},
   "outputs": [
    {
     "data": {
      "text/plain": [
       "XGBRegressor(base_score=None, booster=None, callbacks=None,\n",
       "             colsample_bylevel=None, colsample_bynode=None,\n",
       "             colsample_bytree=None, early_stopping_rounds=None,\n",
       "             enable_categorical=False, eval_metric=None, feature_types=None,\n",
       "             gamma=None, gpu_id=None, grow_policy=None, importance_type=None,\n",
       "             interaction_constraints=None, learning_rate=0.1, max_bin=None,\n",
       "             max_cat_threshold=None, max_cat_to_onehot=None,\n",
       "             max_delta_step=None, max_depth=3, max_leaves=None,\n",
       "             min_child_weight=None, missing=nan, monotone_constraints=None,\n",
       "             n_estimators=100, n_jobs=None, num_parallel_tree=None,\n",
       "             predictor=None, random_state=None, ...)"
      ]
     },
     "execution_count": 30,
     "metadata": {},
     "output_type": "execute_result"
    }
   ],
   "source": [
    "xg_reg_all = xgb.XGBRegressor(objective='reg:squarederror', learning_rate=0.1, max_depth=3, n_estimators=100)\n",
    "xg_reg_all.fit(X, y)"
   ]
  },
  {
   "cell_type": "code",
   "execution_count": 31,
   "metadata": {},
   "outputs": [
    {
     "name": "stdout",
     "output_type": "stream",
     "text": [
      "Predicted avg_labresult:  [8.114191 7.113484]\n"
     ]
    }
   ],
   "source": [
    "new_data = {'ABOGROUP_A': [1,0], 'ABOGROUP_AB': [0,0], 'ABOGROUP_B': [0,0], 'ABOGROUP_O': [0,1], 'weekday_friday': [0,0], 'weekday_monday': [0,1], 'weekday_saturday': [1,0], 'weekday_sunday': [0,0], 'weekday_thursday': [0,0], 'weekday_tuesday': [0,0], 'weekday_wednesday': [0,0], 'month_April': [0,1], 'month_August': [0,0], 'month_December': [0,0], 'month_February': [1,0], 'month_January': [0,0], 'month_July': [0,0], 'month_June': [0,0], 'month_March' : [0,0], 'month_May': [0,0], 'month_November': [0,0], 'month_October' : [0,0], 'month_September': [0,0]}\n",
    "\n",
    "new_data_df = pd.DataFrame.from_dict(new_data)\n",
    "\n",
    "col_order = X.columns\n",
    "new_data_df = new_data_df[col_order]\n",
    "\n",
    "# Make a prediction\n",
    "prediction = xg_reg_all.predict(new_data_df)\n",
    "print(\"Predicted avg_labresult: \", prediction)"
   ]
  },
  {
   "cell_type": "code",
   "execution_count": 32,
   "metadata": {},
   "outputs": [
    {
     "data": {
      "image/png": "[encoded data removed]",
      "text/plain": [
       "<Figure size 640x480 with 1 Axes>"
      ]
     },
     "metadata": {},
     "output_type": "display_data"
    }
   ],
   "source": [
    "xgb.plot_importance(xg_reg_all, max_num_features=30)\n",
    "plt.show()"
   ]
  },
  {
   "cell_type": "code",
   "execution_count": 33,
   "metadata": {},
   "outputs": [
    {
     "data": {
      "text/plain": [
       "Text(0.5, 0, 'relative importance')"
      ]
     },
     "execution_count": 33,
     "metadata": {},
     "output_type": "execute_result"
    },
    {
     "data": {
      "text/plain": [
       "<Figure size 640x480 with 0 Axes>"
      ]
     },
     "metadata": {},
     "output_type": "display_data"
    },
    {
     "data": {
      "image/png": "[encoded data removed]",
      "text/plain": [
       "<Figure size 640x480 with 1 Axes>"
      ]
     },
     "metadata": {},
     "output_type": "display_data"
    },
    {
     "data": {
      "image/png": "[encoded data removed]",
      "text/plain": [
       "<Figure size 600x1000 with 1 Axes>"
      ]
     },
     "metadata": {},
     "output_type": "display_data"
    }
   ],
   "source": [
    "# Get feature importance values\n",
    "importance = xg_reg_all.get_booster().get_score(importance_type='weight')\n",
    "importance = sorted(importance.items(), key=lambda x: x[1])\n",
    "\n",
    "# Plot feature importance\n",
    "df = pd.DataFrame(importance, columns=['feature', 'fscore'])\n",
    "df['fscore'] = df['fscore'] / df['fscore'].sum()\n",
    "\n",
    "plt.figure()\n",
    "df.plot()\n",
    "df.plot(kind='barh', x='feature', y='fscore', legend=False, figsize=(6, 10))\n",
    "plt.title('XGBoost Feature Importance')\n",
    "plt.xlabel('relative importance')"
   ]
  },
  {
   "cell_type": "code",
   "execution_count": 34,
   "metadata": {},
   "outputs": [],
   "source": [
    "# import pickle\n",
    "\n",
    "# with open('hba1c_model.pkl', 'wb') as f:\n",
    "#     pickle.dump(xg_reg_all, f)"
   ]
  },
  {
   "cell_type": "code",
   "execution_count": null,
   "metadata": {},
   "outputs": [],
   "source": []
  }
 ],
 "metadata": {
  "kernelspec": {
   "display_name": "Python 3",
   "language": "python",
   "name": "python3"
  },
  "language_info": {
   "codemirror_mode": {
    "name": "ipython",
    "version": 3
   },
   "file_extension": ".py",
   "mimetype": "text/x-python",
   "name": "python",
   "nbconvert_exporter": "python",
   "pygments_lexer": "ipython3",
   "version": "3.10.6"
  },
  "orig_nbformat": 4,
  "vscode": {
   "interpreter": {
    "hash": "afb734500600fd355917ca529030176ea0ca205570884b88f2f6f7d791fd3fbe"
   }
  }
 },
 "nbformat": 4,
 "nbformat_minor": 2
}
