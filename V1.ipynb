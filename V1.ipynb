{
 "cells": [
  {
   "cell_type": "code",
   "execution_count": 1,
   "metadata": {},
   "outputs": [],
   "source": [
    "import pandas as pd\n",
    "import numpy as np\n",
    "import matplotlib.pylab as plt\n",
    "import seaborn as sns"
   ]
  },
  {
   "cell_type": "code",
   "execution_count": 2,
   "metadata": {},
   "outputs": [
    {
     "data": {
      "text/html": [
       "<div>\n",
       "<style scoped>\n",
       "    .dataframe tbody tr th:only-of-type {\n",
       "        vertical-align: middle;\n",
       "    }\n",
       "\n",
       "    .dataframe tbody tr th {\n",
       "        vertical-align: top;\n",
       "    }\n",
       "\n",
       "    .dataframe thead th {\n",
       "        text-align: right;\n",
       "    }\n",
       "</style>\n",
       "<table border=\"1\" class=\"dataframe\">\n",
       "  <thead>\n",
       "    <tr style=\"text-align: right;\">\n",
       "      <th></th>\n",
       "      <th>LABRESULT</th>\n",
       "      <th>ABOGROUP</th>\n",
       "    </tr>\n",
       "  </thead>\n",
       "  <tbody>\n",
       "    <tr>\n",
       "      <th>0</th>\n",
       "      <td>11.8</td>\n",
       "      <td>9.0</td>\n",
       "    </tr>\n",
       "    <tr>\n",
       "      <th>1</th>\n",
       "      <td>11.8</td>\n",
       "      <td>9.0</td>\n",
       "    </tr>\n",
       "    <tr>\n",
       "      <th>2</th>\n",
       "      <td>11.8</td>\n",
       "      <td>9.0</td>\n",
       "    </tr>\n",
       "    <tr>\n",
       "      <th>3</th>\n",
       "      <td>11.8</td>\n",
       "      <td>9.0</td>\n",
       "    </tr>\n",
       "    <tr>\n",
       "      <th>4</th>\n",
       "      <td>11.8</td>\n",
       "      <td>9.0</td>\n",
       "    </tr>\n",
       "    <tr>\n",
       "      <th>...</th>\n",
       "      <td>...</td>\n",
       "      <td>...</td>\n",
       "    </tr>\n",
       "    <tr>\n",
       "      <th>111753</th>\n",
       "      <td>8.9</td>\n",
       "      <td>9.0</td>\n",
       "    </tr>\n",
       "    <tr>\n",
       "      <th>111754</th>\n",
       "      <td>8.9</td>\n",
       "      <td>9.0</td>\n",
       "    </tr>\n",
       "    <tr>\n",
       "      <th>111755</th>\n",
       "      <td>6.6</td>\n",
       "      <td>9.0</td>\n",
       "    </tr>\n",
       "    <tr>\n",
       "      <th>111756</th>\n",
       "      <td>6.6</td>\n",
       "      <td>9.0</td>\n",
       "    </tr>\n",
       "    <tr>\n",
       "      <th>111757</th>\n",
       "      <td>6.6</td>\n",
       "      <td>9.0</td>\n",
       "    </tr>\n",
       "  </tbody>\n",
       "</table>\n",
       "<p>111758 rows × 2 columns</p>\n",
       "</div>"
      ],
      "text/plain": [
       "        LABRESULT  ABOGROUP\n",
       "0            11.8       9.0\n",
       "1            11.8       9.0\n",
       "2            11.8       9.0\n",
       "3            11.8       9.0\n",
       "4            11.8       9.0\n",
       "...           ...       ...\n",
       "111753        8.9       9.0\n",
       "111754        8.9       9.0\n",
       "111755        6.6       9.0\n",
       "111756        6.6       9.0\n",
       "111757        6.6       9.0\n",
       "\n",
       "[111758 rows x 2 columns]"
      ]
     },
     "metadata": {},
     "output_type": "display_data"
    }
   ],
   "source": [
    "df = pd.read_csv('data/lab_blood.csv')\n",
    "display(df)"
   ]
  },
  {
   "cell_type": "code",
   "execution_count": 35,
   "metadata": {},
   "outputs": [
    {
     "data": {
      "text/html": [
       "<div>\n",
       "<style scoped>\n",
       "    .dataframe tbody tr th:only-of-type {\n",
       "        vertical-align: middle;\n",
       "    }\n",
       "\n",
       "    .dataframe tbody tr th {\n",
       "        vertical-align: top;\n",
       "    }\n",
       "\n",
       "    .dataframe thead th {\n",
       "        text-align: right;\n",
       "    }\n",
       "</style>\n",
       "<table border=\"1\" class=\"dataframe\">\n",
       "  <thead>\n",
       "    <tr style=\"text-align: right;\">\n",
       "      <th></th>\n",
       "      <th>LABRESULT</th>\n",
       "      <th>ABOGROUP</th>\n",
       "    </tr>\n",
       "  </thead>\n",
       "  <tbody>\n",
       "    <tr>\n",
       "      <th>0</th>\n",
       "      <td>6.20</td>\n",
       "      <td>O</td>\n",
       "    </tr>\n",
       "    <tr>\n",
       "      <th>1</th>\n",
       "      <td>7.50</td>\n",
       "      <td>O</td>\n",
       "    </tr>\n",
       "    <tr>\n",
       "      <th>2</th>\n",
       "      <td>8.80</td>\n",
       "      <td>O</td>\n",
       "    </tr>\n",
       "    <tr>\n",
       "      <th>3</th>\n",
       "      <td>7.13</td>\n",
       "      <td>O</td>\n",
       "    </tr>\n",
       "    <tr>\n",
       "      <th>4</th>\n",
       "      <td>8.78</td>\n",
       "      <td>O</td>\n",
       "    </tr>\n",
       "    <tr>\n",
       "      <th>...</th>\n",
       "      <td>...</td>\n",
       "      <td>...</td>\n",
       "    </tr>\n",
       "    <tr>\n",
       "      <th>24766</th>\n",
       "      <td>5.90</td>\n",
       "      <td>A</td>\n",
       "    </tr>\n",
       "    <tr>\n",
       "      <th>24767</th>\n",
       "      <td>5.90</td>\n",
       "      <td>A</td>\n",
       "    </tr>\n",
       "    <tr>\n",
       "      <th>24768</th>\n",
       "      <td>0.00</td>\n",
       "      <td>B</td>\n",
       "    </tr>\n",
       "    <tr>\n",
       "      <th>24769</th>\n",
       "      <td>6.30</td>\n",
       "      <td>A</td>\n",
       "    </tr>\n",
       "    <tr>\n",
       "      <th>24770</th>\n",
       "      <td>6.30</td>\n",
       "      <td>A</td>\n",
       "    </tr>\n",
       "  </tbody>\n",
       "</table>\n",
       "<p>24771 rows × 2 columns</p>\n",
       "</div>"
      ],
      "text/plain": [
       "       LABRESULT ABOGROUP\n",
       "0           6.20        O\n",
       "1           7.50        O\n",
       "2           8.80        O\n",
       "3           7.13        O\n",
       "4           8.78        O\n",
       "...          ...      ...\n",
       "24766       5.90        A\n",
       "24767       5.90        A\n",
       "24768       0.00        B\n",
       "24769       6.30        A\n",
       "24770       6.30        A\n",
       "\n",
       "[24771 rows x 2 columns]"
      ]
     },
     "execution_count": 35,
     "metadata": {},
     "output_type": "execute_result"
    }
   ],
   "source": [
    "df_cleaned = df[(df.ABOGROUP.notnull()) & (df.ABOGROUP != 9) & (df.ABOGROUP != np.nan)].reset_index(drop=True)\n",
    "blood_code = {1.0:'A', 2.0:'B', 3:'AB', 4:'O'}\n",
    "df_cleaned['ABOGROUP'] = df_cleaned['ABOGROUP'].map(blood_code)\n",
    "df_cleaned"
   ]
  },
  {
   "cell_type": "code",
   "execution_count": 37,
   "metadata": {},
   "outputs": [
    {
     "data": {
      "text/html": [
       "<div>\n",
       "<style scoped>\n",
       "    .dataframe tbody tr th:only-of-type {\n",
       "        vertical-align: middle;\n",
       "    }\n",
       "\n",
       "    .dataframe tbody tr th {\n",
       "        vertical-align: top;\n",
       "    }\n",
       "\n",
       "    .dataframe thead th {\n",
       "        text-align: right;\n",
       "    }\n",
       "</style>\n",
       "<table border=\"1\" class=\"dataframe\">\n",
       "  <thead>\n",
       "    <tr style=\"text-align: right;\">\n",
       "      <th></th>\n",
       "      <th>Blood Group</th>\n",
       "      <th>Count</th>\n",
       "    </tr>\n",
       "  </thead>\n",
       "  <tbody>\n",
       "    <tr>\n",
       "      <th>0</th>\n",
       "      <td>A</td>\n",
       "      <td>2876</td>\n",
       "    </tr>\n",
       "    <tr>\n",
       "      <th>1</th>\n",
       "      <td>AB</td>\n",
       "      <td>1231</td>\n",
       "    </tr>\n",
       "    <tr>\n",
       "      <th>2</th>\n",
       "      <td>B</td>\n",
       "      <td>4761</td>\n",
       "    </tr>\n",
       "    <tr>\n",
       "      <th>3</th>\n",
       "      <td>O</td>\n",
       "      <td>15682</td>\n",
       "    </tr>\n",
       "  </tbody>\n",
       "</table>\n",
       "</div>"
      ],
      "text/plain": [
       "  Blood Group  Count\n",
       "0           A   2876\n",
       "1          AB   1231\n",
       "2           B   4761\n",
       "3           O  15682"
      ]
     },
     "metadata": {},
     "output_type": "display_data"
    }
   ],
   "source": [
    "count_df = df_cleaned[(df_cleaned.LABRESULT <= 15) & (df_cleaned.LABRESULT > 0)].groupby('ABOGROUP')['LABRESULT'].count().reset_index()\n",
    "count_df.columns = ['Blood Group', 'Count']\n",
    "display(count_df)"
   ]
  },
  {
   "cell_type": "code",
   "execution_count": 46,
   "metadata": {},
   "outputs": [
    {
     "data": {
      "text/html": [
       "<div>\n",
       "<style scoped>\n",
       "    .dataframe tbody tr th:only-of-type {\n",
       "        vertical-align: middle;\n",
       "    }\n",
       "\n",
       "    .dataframe tbody tr th {\n",
       "        vertical-align: top;\n",
       "    }\n",
       "\n",
       "    .dataframe thead th {\n",
       "        text-align: right;\n",
       "    }\n",
       "</style>\n",
       "<table border=\"1\" class=\"dataframe\">\n",
       "  <thead>\n",
       "    <tr style=\"text-align: right;\">\n",
       "      <th></th>\n",
       "      <th>Blood Group</th>\n",
       "      <th>HbA1C (mean)</th>\n",
       "    </tr>\n",
       "  </thead>\n",
       "  <tbody>\n",
       "    <tr>\n",
       "      <th>0</th>\n",
       "      <td>A</td>\n",
       "      <td>7.420073</td>\n",
       "    </tr>\n",
       "    <tr>\n",
       "      <th>1</th>\n",
       "      <td>AB</td>\n",
       "      <td>7.333517</td>\n",
       "    </tr>\n",
       "    <tr>\n",
       "      <th>2</th>\n",
       "      <td>B</td>\n",
       "      <td>7.556730</td>\n",
       "    </tr>\n",
       "    <tr>\n",
       "      <th>3</th>\n",
       "      <td>O</td>\n",
       "      <td>7.453406</td>\n",
       "    </tr>\n",
       "  </tbody>\n",
       "</table>\n",
       "</div>"
      ],
      "text/plain": [
       "  Blood Group  HbA1C (mean)\n",
       "0           A      7.420073\n",
       "1          AB      7.333517\n",
       "2           B      7.556730\n",
       "3           O      7.453406"
      ]
     },
     "metadata": {},
     "output_type": "display_data"
    }
   ],
   "source": [
    "grouped_df = df_cleaned[(df_cleaned.LABRESULT <= 15) & (df_cleaned.LABRESULT > 0)].groupby('ABOGROUP').agg(np.mean)['LABRESULT'].reset_index()\n",
    "grouped_df.columns = ['Blood Group', 'HbA1C (mean)']\n",
    "display(grouped_df)"
   ]
  },
  {
   "cell_type": "code",
   "execution_count": 47,
   "metadata": {},
   "outputs": [
    {
     "data": {
      "text/html": [
       "<div>\n",
       "<style scoped>\n",
       "    .dataframe tbody tr th:only-of-type {\n",
       "        vertical-align: middle;\n",
       "    }\n",
       "\n",
       "    .dataframe tbody tr th {\n",
       "        vertical-align: top;\n",
       "    }\n",
       "\n",
       "    .dataframe thead th {\n",
       "        text-align: right;\n",
       "    }\n",
       "</style>\n",
       "<table border=\"1\" class=\"dataframe\">\n",
       "  <thead>\n",
       "    <tr style=\"text-align: right;\">\n",
       "      <th></th>\n",
       "      <th>Blood Group</th>\n",
       "      <th>Count</th>\n",
       "      <th>HbA1C (mean)</th>\n",
       "    </tr>\n",
       "  </thead>\n",
       "  <tbody>\n",
       "    <tr>\n",
       "      <th>0</th>\n",
       "      <td>A</td>\n",
       "      <td>2876</td>\n",
       "      <td>7.420073</td>\n",
       "    </tr>\n",
       "    <tr>\n",
       "      <th>1</th>\n",
       "      <td>AB</td>\n",
       "      <td>1231</td>\n",
       "      <td>7.333517</td>\n",
       "    </tr>\n",
       "    <tr>\n",
       "      <th>2</th>\n",
       "      <td>B</td>\n",
       "      <td>4761</td>\n",
       "      <td>7.556730</td>\n",
       "    </tr>\n",
       "    <tr>\n",
       "      <th>3</th>\n",
       "      <td>O</td>\n",
       "      <td>15682</td>\n",
       "      <td>7.453406</td>\n",
       "    </tr>\n",
       "  </tbody>\n",
       "</table>\n",
       "</div>"
      ],
      "text/plain": [
       "  Blood Group  Count  HbA1C (mean)\n",
       "0           A   2876      7.420073\n",
       "1          AB   1231      7.333517\n",
       "2           B   4761      7.556730\n",
       "3           O  15682      7.453406"
      ]
     },
     "metadata": {},
     "output_type": "display_data"
    }
   ],
   "source": [
    "join_df = count_df.merge(grouped_df, on='Blood Group', how='inner')\n",
    "display(join_df)"
   ]
  },
  {
   "cell_type": "code",
   "execution_count": 48,
   "metadata": {},
   "outputs": [
    {
     "data": {
      "text/plain": [
       "Text(0, 0.5, 'HbA1C level')"
      ]
     },
     "execution_count": 48,
     "metadata": {},
     "output_type": "execute_result"
    },
    {
     "data": {
      "image/png": "[encoded data removed]",
      "text/plain": [
       "<Figure size 640x480 with 1 Axes>"
      ]
     },
     "metadata": {},
     "output_type": "display_data"
    }
   ],
   "source": [
    "sns.set_style('darkgrid')\n",
    "sns.boxplot(data=df_cleaned[(df_cleaned.LABRESULT <= 15) & (df_cleaned.LABRESULT > 0)], x='ABOGROUP', y='LABRESULT', showfliers=False, order=['A','B','AB','O'])\n",
    "plt.title(\"HbA1C among blood group\")\n",
    "plt.xlabel(\"Blood Group\")\n",
    "plt.ylabel(\"HbA1C level\")"
   ]
  },
  {
   "cell_type": "code",
   "execution_count": null,
   "metadata": {},
   "outputs": [],
   "source": []
  },
  {
   "cell_type": "code",
   "execution_count": 8,
   "metadata": {},
   "outputs": [
    {
     "name": "stdout",
     "output_type": "stream",
     "text": [
      "     Source  ddof1  ddof2        F     p-unc       np2\n",
      "0  ABOGROUP      3  24594  6.74575  0.000152  0.000822\n"
     ]
    },
    {
     "name": "stderr",
     "output_type": "stream",
     "text": [
      "c:\\Users\\User\\AppData\\Local\\Programs\\Python\\Python310\\lib\\site-packages\\pingouin\\parametric.py:992: FutureWarning: Not prepending group keys to the result index of transform-like apply. In the future, the group keys will be included in the index, regardless of whether the applied function returns a like-indexed object.\n",
      "To preserve the previous behavior, use\n",
      "\n",
      "\t>>> .groupby(..., group_keys=False)\n",
      "\n",
      "To adopt the future behavior and silence this warning, use \n",
      "\n",
      "\t>>> .groupby(..., group_keys=True)\n",
      "  sserror = grp.apply(lambda x: (x - x.mean()) ** 2).sum()\n"
     ]
    }
   ],
   "source": [
    "import pingouin as pg\n",
    "\n",
    "# Perform multi-way ANOVA\n",
    "aov = pg.anova(data=df_cleaned[(df_cleaned.LABRESULT <= 15) & (df_cleaned.LABRESULT > 0)], dv='LABRESULT', between=['ABOGROUP'])\n",
    "\n",
    "# Print the ANOVA results\n",
    "print(aov)"
   ]
  },
  {
   "cell_type": "code",
   "execution_count": 49,
   "metadata": {},
   "outputs": [
    {
     "name": "stderr",
     "output_type": "stream",
     "text": [
      "c:\\Users\\User\\AppData\\Local\\Programs\\Python\\Python310\\lib\\site-packages\\scipy\\stats\\_morestats.py:1800: UserWarning: p-value may not be accurate for N > 5000.\n",
      "  warnings.warn(\"p-value may not be accurate for N > 5000.\")\n"
     ]
    },
    {
     "data": {
      "text/html": [
       "<div>\n",
       "<style scoped>\n",
       "    .dataframe tbody tr th:only-of-type {\n",
       "        vertical-align: middle;\n",
       "    }\n",
       "\n",
       "    .dataframe tbody tr th {\n",
       "        vertical-align: top;\n",
       "    }\n",
       "\n",
       "    .dataframe thead th {\n",
       "        text-align: right;\n",
       "    }\n",
       "</style>\n",
       "<table border=\"1\" class=\"dataframe\">\n",
       "  <thead>\n",
       "    <tr style=\"text-align: right;\">\n",
       "      <th></th>\n",
       "      <th>W</th>\n",
       "      <th>pval</th>\n",
       "      <th>normal</th>\n",
       "    </tr>\n",
       "  </thead>\n",
       "  <tbody>\n",
       "    <tr>\n",
       "      <th>LABRESULT</th>\n",
       "      <td>0.915238</td>\n",
       "      <td>0.0</td>\n",
       "      <td>False</td>\n",
       "    </tr>\n",
       "  </tbody>\n",
       "</table>\n",
       "</div>"
      ],
      "text/plain": [
       "                  W  pval  normal\n",
       "LABRESULT  0.915238   0.0   False"
      ]
     },
     "metadata": {},
     "output_type": "display_data"
    },
    {
     "data": {
      "text/plain": [
       "<AxesSubplot: title={'center': 'Q-Q Plot'}, xlabel='Theoretical quantiles', ylabel='Ordered quantiles'>"
      ]
     },
     "execution_count": 49,
     "metadata": {},
     "output_type": "execute_result"
    },
    {
     "data": {
      "image/png": "[encoded data removed]",
      "text/plain": [
       "<Figure size 500x400 with 1 Axes>"
      ]
     },
     "metadata": {},
     "output_type": "display_data"
    }
   ],
   "source": [
    "normality = pg.normality(df_cleaned[(df_cleaned.LABRESULT <= 15) & (df_cleaned.LABRESULT > 0)]['LABRESULT'])\n",
    "\n",
    "# Print the normality test results\n",
    "display(normality)\n",
    "pg.qqplot(df_cleaned[(df_cleaned.LABRESULT <= 15) & (df_cleaned.LABRESULT > 0)]['LABRESULT'])"
   ]
  },
  {
   "cell_type": "code",
   "execution_count": 15,
   "metadata": {},
   "outputs": [
    {
     "name": "stdout",
     "output_type": "stream",
     "text": [
      "           Source  ddof1          H         p-unc\n",
      "Kruskal  ABOGROUP      3  32.382911  4.345874e-07\n"
     ]
    }
   ],
   "source": [
    "kruskal = pg.kruskal(data=df_cleaned[(df_cleaned.LABRESULT <= 15) & (df_cleaned.LABRESULT > 0)], dv='LABRESULT', between='ABOGROUP')\n",
    "\n",
    "# Print the Kruskal-Wallis test results\n",
    "print(kruskal)"
   ]
  },
  {
   "cell_type": "code",
   "execution_count": 17,
   "metadata": {},
   "outputs": [
    {
     "data": {
      "text/html": [
       "<div>\n",
       "<style scoped>\n",
       "    .dataframe tbody tr th:only-of-type {\n",
       "        vertical-align: middle;\n",
       "    }\n",
       "\n",
       "    .dataframe tbody tr th {\n",
       "        vertical-align: top;\n",
       "    }\n",
       "\n",
       "    .dataframe thead th {\n",
       "        text-align: right;\n",
       "    }\n",
       "</style>\n",
       "<table border=\"1\" class=\"dataframe\">\n",
       "  <thead>\n",
       "    <tr style=\"text-align: right;\">\n",
       "      <th></th>\n",
       "      <th>A</th>\n",
       "      <th>B</th>\n",
       "      <th>mean(A)</th>\n",
       "      <th>mean(B)</th>\n",
       "      <th>diff</th>\n",
       "      <th>se</th>\n",
       "      <th>T</th>\n",
       "      <th>df</th>\n",
       "      <th>pval</th>\n",
       "      <th>hedges</th>\n",
       "    </tr>\n",
       "  </thead>\n",
       "  <tbody>\n",
       "    <tr>\n",
       "      <th>0</th>\n",
       "      <td>A</td>\n",
       "      <td>AB</td>\n",
       "      <td>7.420073</td>\n",
       "      <td>7.333517</td>\n",
       "      <td>0.086556</td>\n",
       "      <td>0.059533</td>\n",
       "      <td>1.453919</td>\n",
       "      <td>2523.690322</td>\n",
       "      <td>0.465791</td>\n",
       "      <td>0.049511</td>\n",
       "    </tr>\n",
       "    <tr>\n",
       "      <th>1</th>\n",
       "      <td>A</td>\n",
       "      <td>B</td>\n",
       "      <td>7.420073</td>\n",
       "      <td>7.556730</td>\n",
       "      <td>-0.136657</td>\n",
       "      <td>0.043293</td>\n",
       "      <td>-3.156535</td>\n",
       "      <td>5906.670297</td>\n",
       "      <td>0.008717</td>\n",
       "      <td>-0.074539</td>\n",
       "    </tr>\n",
       "    <tr>\n",
       "      <th>2</th>\n",
       "      <td>A</td>\n",
       "      <td>O</td>\n",
       "      <td>7.420073</td>\n",
       "      <td>7.453406</td>\n",
       "      <td>-0.033333</td>\n",
       "      <td>0.037490</td>\n",
       "      <td>-0.889127</td>\n",
       "      <td>3941.765562</td>\n",
       "      <td>0.810527</td>\n",
       "      <td>-0.018035</td>\n",
       "    </tr>\n",
       "    <tr>\n",
       "      <th>3</th>\n",
       "      <td>AB</td>\n",
       "      <td>B</td>\n",
       "      <td>7.333517</td>\n",
       "      <td>7.556730</td>\n",
       "      <td>-0.223212</td>\n",
       "      <td>0.054994</td>\n",
       "      <td>-4.058813</td>\n",
       "      <td>1999.261966</td>\n",
       "      <td>0.000299</td>\n",
       "      <td>-0.129763</td>\n",
       "    </tr>\n",
       "    <tr>\n",
       "      <th>4</th>\n",
       "      <td>AB</td>\n",
       "      <td>O</td>\n",
       "      <td>7.333517</td>\n",
       "      <td>7.453406</td>\n",
       "      <td>-0.119889</td>\n",
       "      <td>0.050553</td>\n",
       "      <td>-2.371557</td>\n",
       "      <td>1457.315697</td>\n",
       "      <td>0.083063</td>\n",
       "      <td>-0.070193</td>\n",
       "    </tr>\n",
       "    <tr>\n",
       "      <th>5</th>\n",
       "      <td>B</td>\n",
       "      <td>O</td>\n",
       "      <td>7.556730</td>\n",
       "      <td>7.453406</td>\n",
       "      <td>0.103323</td>\n",
       "      <td>0.029762</td>\n",
       "      <td>3.471665</td>\n",
       "      <td>7913.903087</td>\n",
       "      <td>0.002923</td>\n",
       "      <td>0.057444</td>\n",
       "    </tr>\n",
       "  </tbody>\n",
       "</table>\n",
       "</div>"
      ],
      "text/plain": [
       "    A   B   mean(A)   mean(B)      diff        se         T           df  \\\n",
       "0   A  AB  7.420073  7.333517  0.086556  0.059533  1.453919  2523.690322   \n",
       "1   A   B  7.420073  7.556730 -0.136657  0.043293 -3.156535  5906.670297   \n",
       "2   A   O  7.420073  7.453406 -0.033333  0.037490 -0.889127  3941.765562   \n",
       "3  AB   B  7.333517  7.556730 -0.223212  0.054994 -4.058813  1999.261966   \n",
       "4  AB   O  7.333517  7.453406 -0.119889  0.050553 -2.371557  1457.315697   \n",
       "5   B   O  7.556730  7.453406  0.103323  0.029762  3.471665  7913.903087   \n",
       "\n",
       "       pval    hedges  \n",
       "0  0.465791  0.049511  \n",
       "1  0.008717 -0.074539  \n",
       "2  0.810527 -0.018035  \n",
       "3  0.000299 -0.129763  \n",
       "4  0.083063 -0.070193  \n",
       "5  0.002923  0.057444  "
      ]
     },
     "metadata": {},
     "output_type": "display_data"
    }
   ],
   "source": [
    "# Perform multiple comparisons between ABOGROUP levels\n",
    "gameshowell = pg.pairwise_gameshowell(data=df_cleaned[(df_cleaned.LABRESULT <= 15) & (df_cleaned.LABRESULT > 0)], dv='LABRESULT', between='ABOGROUP')\n",
    "\n",
    "# Print the multiple comparisons results\n",
    "display(gameshowell)"
   ]
  },
  {
   "cell_type": "code",
   "execution_count": null,
   "metadata": {},
   "outputs": [],
   "source": []
  }
 ],
 "metadata": {
  "kernelspec": {
   "display_name": "Python 3",
   "language": "python",
   "name": "python3"
  },
  "language_info": {
   "codemirror_mode": {
    "name": "ipython",
    "version": 3
   },
   "file_extension": ".py",
   "mimetype": "text/x-python",
   "name": "python",
   "nbconvert_exporter": "python",
   "pygments_lexer": "ipython3",
   "version": "3.10.6 (tags/v3.10.6:9c7b4bd, Aug  1 2022, 21:53:49) [MSC v.1932 64 bit (AMD64)]"
  },
  "orig_nbformat": 4,
  "vscode": {
   "interpreter": {
    "hash": "afb734500600fd355917ca529030176ea0ca205570884b88f2f6f7d791fd3fbe"
   }
  }
 },
 "nbformat": 4,
 "nbformat_minor": 2
}
